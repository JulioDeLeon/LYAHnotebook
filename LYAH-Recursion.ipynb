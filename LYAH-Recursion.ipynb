{
 "cells": [
  {
   "cell_type": "markdown",
   "metadata": {},
   "source": [
    "# Learn You A Haskell For Great Good"
   ]
  },
  {
   "cell_type": "markdown",
   "metadata": {},
   "source": [
    "## Chapter 5 :: Recusion"
   ]
  },
  {
   "cell_type": "markdown",
   "metadata": {
    "collapsed": true
   },
   "source": [
    "Recursion is defined in the book as \"a way of defining a function in which a function is applied in its own definition\". The idea is to solve a problem by identifing the base cases of a problem, then widdle away at the larger problem until base cases are met. \n",
    "\n",
    "Since Haskell is a functional language, we cannot loop of over a dataset or perform a compution for a set amount of iterations. Haskell provides tools such as folds, map, and recursion to solve these problems."
   ]
  },
  {
   "cell_type": "markdown",
   "metadata": {},
   "source": [
    "#### Examples"
   ]
  },
  {
   "cell_type": "code",
   "execution_count": 1,
   "metadata": {
    "collapsed": true
   },
   "outputs": [],
   "source": [
    "-- popular recursive problem Fibonacci\n",
    "fibonacci :: Int -> Int\n",
    "fibonacci x\n",
    "    | x <= 0 = 0\n",
    "    | x == 1 = 1\n",
    "    | otherwise = x + fibonacci (x - 1)"
   ]
  },
  {
   "cell_type": "code",
   "execution_count": 2,
   "metadata": {},
   "outputs": [
    {
     "data": {
      "text/plain": [
       "55"
      ]
     },
     "metadata": {},
     "output_type": "display_data"
    }
   ],
   "source": [
    "fibonacci 10"
   ]
  },
  {
   "cell_type": "code",
   "execution_count": 3,
   "metadata": {},
   "outputs": [],
   "source": [
    "maximum' :: (Ord a) => [a] -> a\n",
    "maximum' [] = error \"maximum of empty list!\"\n",
    "maximum' [x] = x\n",
    "maximum' (x:xs) = max x (maximum' xs)\n",
    "\n",
    "take' :: (Num i, Ord i) => i -> [a] -> [a]\n",
    "take' n _\n",
    "    | n <= 0 = []\n",
    "take' _ [] = []\n",
    "take' n (x:xs) = x : take' (n - 1) xs\n",
    "\n",
    "reverse' :: [a] -> [a]\n",
    "reverse' [] = []\n",
    "reverse' (x:xs) = reverse' xs ++ [x]"
   ]
  },
  {
   "cell_type": "code",
   "execution_count": 4,
   "metadata": {},
   "outputs": [
    {
     "data": {
      "text/plain": [
       "53"
      ]
     },
     "metadata": {},
     "output_type": "display_data"
    }
   ],
   "source": [
    "maximum' [2,53,3,44,6,20,11]"
   ]
  },
  {
   "cell_type": "code",
   "execution_count": 5,
   "metadata": {},
   "outputs": [],
   "source": [
    "quicksort :: (Ord a) => [a] -> [a]\n",
    "quicksort [] = []\n",
    "quicksort (x:xs) =\n",
    "    let smallerOrEqual = [ a | a <- xs, a <= x]\n",
    "        larger = [ a | a <- xs, a > x]\n",
    "    in\n",
    "        quicksort smallerOrEqual ++ [x] ++ quicksort larger"
   ]
  },
  {
   "cell_type": "code",
   "execution_count": 6,
   "metadata": {},
   "outputs": [
    {
     "data": {
      "text/plain": [
       "\"        Tabcdeeefghhijklmnoooopqrrstuuvwxyz\""
      ]
     },
     "metadata": {},
     "output_type": "display_data"
    }
   ],
   "source": [
    "quicksort \"The quick brown fox jumps over the lazy dog\""
   ]
  },
  {
   "cell_type": "markdown",
   "metadata": {},
   "source": [
    "#### Things to remember while using recursion in Haskell:\n",
    "Haskell use lazy-evaluation to implement recursion. This model for recursion in different from languages that are eagerly evaluated (All imparative languages and some functional languages are eagerly evaluated). In the case of impartive language, almost all the time, when a function is recursively called, memory is added to the stack. This could create issues for deep recursive calls. Where most functional language will use tail-call optimization to accomdate this. Tail-call optimaztion is a feature of a language which will avoid new stack allocation when making a recursive call.\n",
    " \n",
    "Haskell does NOT use tail-call optimization due to lazy-evaluation. This means that a 'Thunk' is created, a promise of a return of a value. However a 'Thunk' is not cost free. If you are interested in how much memory a 'Thunk' can take, look here: https://stackoverflow.com/questions/13982863/how-much-memory-does-a-thunk-use. \n",
    "\n",
    "If you are interested how 'Thunks' are evaulated in Haskell, it would behoove you to read up on Weak Head Normal Form. \n",
    "\n",
    "Use -O2 when compiling Haskell to optimize your recursive functions."
   ]
  },
  {
   "cell_type": "markdown",
   "metadata": {},
   "source": [
    "### Conclusion\n",
    "\n",
    "##### What can we take from recursion in Haskell\n",
    "Well before creating recursive solution on in the imperative languages we use in our day, we should probably read on how the given language optimizes for recursion. Most of the time, the given language likely does not, making the recursive solution unoptimal in terms of memory. \n",
    "\n",
    "Thinking about recursive solutions does give us insight on the problem we are trying to solve. "
   ]
  }
 ],
 "metadata": {
  "kernelspec": {
   "display_name": "Haskell",
   "language": "haskell",
   "name": "haskell"
  },
  "language_info": {
   "codemirror_mode": "ihaskell",
   "file_extension": ".hs",
   "name": "haskell",
   "version": "8.0.2"
  }
 },
 "nbformat": 4,
 "nbformat_minor": 2
}
